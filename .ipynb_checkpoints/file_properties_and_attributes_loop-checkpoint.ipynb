{
 "cells": [
  {
   "cell_type": "code",
   "execution_count": 3,
   "id": "e13bb36c",
   "metadata": {},
   "outputs": [
    {
     "ename": "ModuleNotFoundError",
     "evalue": "No module named 'pandas'",
     "output_type": "error",
     "traceback": [
      "\u001b[0;31m---------------------------------------------------------------------------\u001b[0m",
      "\u001b[0;31mModuleNotFoundError\u001b[0m                       Traceback (most recent call last)",
      "Cell \u001b[0;32mIn[3], line 2\u001b[0m\n\u001b[1;32m      1\u001b[0m \u001b[38;5;28;01mimport\u001b[39;00m \u001b[38;5;21;01mjson\u001b[39;00m\n\u001b[0;32m----> 2\u001b[0m \u001b[38;5;28;01mimport\u001b[39;00m \u001b[38;5;21;01mpandas\u001b[39;00m\n\u001b[1;32m      3\u001b[0m \u001b[38;5;28;01mdef\u001b[39;00m \u001b[38;5;21mcheck_abs_path_func\u001b[39m(input_file_name,input_abs_path):\n\u001b[1;32m      4\u001b[0m     df\u001b[38;5;241m=\u001b[39mpd\u001b[38;5;241m.\u001b[39mread_json(input_file_name ,lines\u001b[38;5;241m=\u001b[39m\u001b[38;5;28;01mTrue\u001b[39;00m)\n",
      "\u001b[0;31mModuleNotFoundError\u001b[0m: No module named 'pandas'"
     ]
    }
   ],
   "source": [
    "import json\n",
    "import pandas\n",
    "def check_abs_path_func(input_file_name,input_abs_path):\n",
    "    df=pd.read_json(input_file_name ,lines=True)\n",
    "    #abs_path=df.loc[df['abs_path'] == input_abs_path].iloc[0]['abs_path']\n",
    "    #abs_path2=abs_path\n",
    "    abs_path=df.abs_path\n",
    "    abs_path2 = abs_path.loc[df['abs_path'] == input_abs_path]\n",
    "    print(abs_path2)\n",
    "    if abs_path2.empty:\n",
    "        return False\n",
    "    else:\n",
    "        return True"
   ]
  },
  {
   "cell_type": "code",
   "execution_count": 4,
   "id": "5a925275",
   "metadata": {},
   "outputs": [
    {
     "ename": "NameError",
     "evalue": "name 'check_abs_path_func' is not defined",
     "output_type": "error",
     "traceback": [
      "\u001b[0;31m---------------------------------------------------------------------------\u001b[0m",
      "\u001b[0;31mNameError\u001b[0m                                 Traceback (most recent call last)",
      "Cell \u001b[0;32mIn[4], line 1\u001b[0m\n\u001b[0;32m----> 1\u001b[0m \u001b[43mcheck_abs_path_func\u001b[49m(\u001b[38;5;124m'\u001b[39m\u001b[38;5;124mdata_withouttry.json\u001b[39m\u001b[38;5;124m'\u001b[39m,\u001b[38;5;124m'\u001b[39m\u001b[38;5;124mC:\u001b[39m\u001b[38;5;130;01m\\\\\u001b[39;00m\u001b[38;5;124mUsers\u001b[39m\u001b[38;5;130;01m\\\\\u001b[39;00m\u001b[38;5;124mayan\u001b[39m\u001b[38;5;130;01m\\\\\u001b[39;00m\u001b[38;5;124mmy_project\u001b[39m\u001b[38;5;130;01m\\\\\u001b[39;00m\u001b[38;5;124mvenv\u001b[39m\u001b[38;5;130;01m\\\\\u001b[39;00m\u001b[38;5;124mScripts\u001b[39m\u001b[38;5;130;01m\\\\\u001b[39;00m\u001b[38;5;124m'\u001b[39m)\n",
      "\u001b[0;31mNameError\u001b[0m: name 'check_abs_path_func' is not defined"
     ]
    }
   ],
   "source": [
    "check_abs_path_func('data_withouttry.json','C:\\\\Users\\\\ayan\\\\my_project\\\\venv\\\\Scripts\\\\')"
   ]
  },
  {
   "cell_type": "code",
   "execution_count": 5,
   "id": "7007f3bf",
   "metadata": {},
   "outputs": [
    {
     "ename": "NameError",
     "evalue": "name 'file_inventory_creator' is not defined",
     "output_type": "error",
     "traceback": [
      "\u001b[0;31m---------------------------------------------------------------------------\u001b[0m",
      "\u001b[0;31mNameError\u001b[0m                                 Traceback (most recent call last)",
      "Cell \u001b[0;32mIn[5], line 1\u001b[0m\n\u001b[0;32m----> 1\u001b[0m \u001b[43mfile_inventory_creator\u001b[49m(\u001b[38;5;124m'\u001b[39m\u001b[38;5;124mdata_withouttry.json\u001b[39m\u001b[38;5;124m'\u001b[39m,\u001b[38;5;124m'\u001b[39m\u001b[38;5;124mC:\u001b[39m\u001b[38;5;130;01m\\\\\u001b[39;00m\u001b[38;5;124mUsers\u001b[39m\u001b[38;5;130;01m\\\\\u001b[39;00m\u001b[38;5;124mayan\u001b[39m\u001b[38;5;130;01m\\\\\u001b[39;00m\u001b[38;5;124mmy_project\u001b[39m\u001b[38;5;130;01m\\\\\u001b[39;00m\u001b[38;5;124mvenv\u001b[39m\u001b[38;5;130;01m\\\\\u001b[39;00m\u001b[38;5;124mScripts\u001b[39m\u001b[38;5;124m'\u001b[39m)\n",
      "\u001b[0;31mNameError\u001b[0m: name 'file_inventory_creator' is not defined"
     ]
    }
   ],
   "source": [
    "file_inventory_creator('data_withouttry.json','C:\\\\Users\\\\ayan\\\\my_project\\\\venv\\\\Scripts')"
   ]
  },
  {
   "cell_type": "code",
   "execution_count": 6,
   "id": "ee281907",
   "metadata": {},
   "outputs": [
    {
     "ename": "ModuleNotFoundError",
     "evalue": "No module named 'pandas'",
     "output_type": "error",
     "traceback": [
      "\u001b[0;31m---------------------------------------------------------------------------\u001b[0m",
      "\u001b[0;31mModuleNotFoundError\u001b[0m                       Traceback (most recent call last)",
      "Cell \u001b[0;32mIn[6], line 3\u001b[0m\n\u001b[1;32m      1\u001b[0m \u001b[38;5;28;01mimport\u001b[39;00m \u001b[38;5;21;01mjson\u001b[39;00m\n\u001b[1;32m      2\u001b[0m \u001b[38;5;28;01mimport\u001b[39;00m \u001b[38;5;21;01mos\u001b[39;00m\n\u001b[0;32m----> 3\u001b[0m \u001b[38;5;28;01mimport\u001b[39;00m \u001b[38;5;21;01mpandas\u001b[39;00m \u001b[38;5;28;01mas\u001b[39;00m \u001b[38;5;21;01mpd\u001b[39;00m\n\u001b[1;32m      4\u001b[0m \u001b[38;5;66;03m#create a function that accepts 2 input arguments \u001b[39;00m\n\u001b[1;32m      5\u001b[0m \u001b[38;5;66;03m# 1: the \"input_directory\": the path for which we want to collect the properties and attributes for all the files in it\u001b[39;00m\n\u001b[1;32m      6\u001b[0m \u001b[38;5;66;03m# 2:the \"output_file_name\": the json file where the entries of the files and attributes will be saved\u001b[39;00m\n\u001b[1;32m      7\u001b[0m \u001b[38;5;66;03m#1: insert input directory here \u001b[39;00m\n\u001b[1;32m      8\u001b[0m \u001b[38;5;28;01mdef\u001b[39;00m \u001b[38;5;21mfile_inventory_creator\u001b[39m(input_directory,output_file_name):\n",
      "\u001b[0;31mModuleNotFoundError\u001b[0m: No module named 'pandas'"
     ]
    }
   ],
   "source": [
    "import json\n",
    "import os\n",
    "import pandas as pd\n",
    "#create a function that accepts 2 input arguments \n",
    "# 1: the \"input_directory\": the path for which we want to collect the properties and attributes for all the files in it\n",
    "# 2:the \"output_file_name\": the json file where the entries of the files and attributes will be saved\n",
    "#1: insert input directory here \n",
    "def file_inventory_creator(input_directory,output_file_name):\n",
    "    for root, dirs, files in os.walk(input_directory):\n",
    "        for file in files:\n",
    "            \n",
    "                path_creator = os.path.join(root,file)\n",
    "                file_abs_path = os.path.abspath(path_creator)\n",
    "                old_abs_path = check_abs_path_func(output_file_name,file_abs_path)\n",
    "                #print(old_abs_path)\n",
    "                #print(file_abs_path)\n",
    "\n",
    "                #print(g)\n",
    "                # 4: collect properties and attributes\n",
    "                size = os.stat(file_abs_path)\n",
    "                #print( \"the size of the file is \" + str( size )+ \" bytes\" )\n",
    "                create_time_stamp = os.path.getctime(file_abs_path)\n",
    "                #print(\"the created time of this file is \"+ str(create_time_stamp)  )\n",
    "                base_name = os.path.basename(file_abs_path)\n",
    "                common_prefix = os.path.commonprefix(file_abs_path)\n",
    "                dir_name = os.path.dirname(file_abs_path)\n",
    "                exists = os.path.exists(file_abs_path)\n",
    "                lexists = os.path.lexists(file_abs_path)\n",
    "                expanduser = os.path.expanduser(file_abs_path)\n",
    "                expandvars = os.path.expandvars(file_abs_path)\n",
    "                get_a_time = os.path.getatime(file_abs_path)\n",
    "                get_m_time = os.path.getmtime(file_abs_path)\n",
    "                get_c_time = os.path.getctime(file_abs_path)\n",
    "                isabs = os.path.isabs(file_abs_path)\n",
    "                is_file = os.path.isfile(file_abs_path)\n",
    "                is_dir = os.path.isdir(file_abs_path)\n",
    "                is_link = os.path.islink(file_abs_path)\n",
    "                is_mount = os.path.ismount(file_abs_path)\n",
    "                norm_case = os.path.normcase(file_abs_path)\n",
    "                norm_path = os.path.normpath(file_abs_path)\n",
    "                real_path = os.path.realpath(file_abs_path)\n",
    "               # same_file = os.path.samefile(file_abs_path)\n",
    "                #same_open_file = os.path.sameopenfile(file_abs_path)\n",
    "                #6:converts all properties and attributes to a dictionary\n",
    "                properties_and_attributes = {\"size_of_file\": size ,\"create_time_stamp\": create_time_stamp,\"abs_path\":file_abs_path,\"base_name\":base_name,\"common_prefix\": common_prefix,\"dir_name\":dir_name,\"exists\":exists,\"lexists\":lexists,\"expanduser\": expanduser,\"expandvars\":expandvars,\"get_a_time\":get_a_time,\"get_m_time\":get_m_time,\"get_c_time\":get_c_time,\"isabs\":isabs,\"is_file\":is_file,\"is_dir\":is_dir, \"is_link\":is_link,\"is_mount\": is_mount,\"norm_case\":norm_case,\"norm_path\":norm_path,\"real_path\":real_path,}\n",
    "                l =properties_and_attributes\n",
    "                j_dumps = json.dumps(l)#7 python writes to json\n",
    "                print(j_dumps)\n",
    "            #8 python writes to new file\n",
    "                with open(output_file_name, 'a') as f:\n",
    "                    json.dump(l, f)\n",
    "                    if old_abs_path == False:\n",
    "                        f.write(\"\\n\")\n",
    "                    \n",
    "                    \n",
    "           "
   ]
  },
  {
   "cell_type": "code",
   "execution_count": 7,
   "id": "4e07ece2",
   "metadata": {},
   "outputs": [
    {
     "ename": "NameError",
     "evalue": "name 'file_inventory_creator' is not defined",
     "output_type": "error",
     "traceback": [
      "\u001b[0;31m---------------------------------------------------------------------------\u001b[0m",
      "\u001b[0;31mNameError\u001b[0m                                 Traceback (most recent call last)",
      "Cell \u001b[0;32mIn[7], line 1\u001b[0m\n\u001b[0;32m----> 1\u001b[0m \u001b[43mfile_inventory_creator\u001b[49m(\u001b[38;5;124m'\u001b[39m\u001b[38;5;124mC:\u001b[39m\u001b[38;5;130;01m\\\\\u001b[39;00m\u001b[38;5;124mUsers\u001b[39m\u001b[38;5;130;01m\\\\\u001b[39;00m\u001b[38;5;124mayan\u001b[39m\u001b[38;5;130;01m\\\\\u001b[39;00m\u001b[38;5;124mmy_project\u001b[39m\u001b[38;5;130;01m\\\\\u001b[39;00m\u001b[38;5;124mvenv\u001b[39m\u001b[38;5;130;01m\\\\\u001b[39;00m\u001b[38;5;124mScripts\u001b[39m\u001b[38;5;124m'\u001b[39m,\u001b[38;5;124m'\u001b[39m\u001b[38;5;124mdata_withouttry.json\u001b[39m\u001b[38;5;124m'\u001b[39m)\n",
      "\u001b[0;31mNameError\u001b[0m: name 'file_inventory_creator' is not defined"
     ]
    }
   ],
   "source": [
    "file_inventory_creator('C:\\\\Users\\\\ayan\\\\my_project\\\\venv\\\\Scripts','data_withouttry.json')"
   ]
  },
  {
   "cell_type": "code",
   "execution_count": null,
   "id": "b272ecac",
   "metadata": {},
   "outputs": [],
   "source": []
  },
  {
   "cell_type": "code",
   "execution_count": null,
   "id": "a1e8e585",
   "metadata": {},
   "outputs": [],
   "source": []
  },
  {
   "cell_type": "code",
   "execution_count": null,
   "id": "b90db52e",
   "metadata": {},
   "outputs": [],
   "source": []
  },
  {
   "cell_type": "code",
   "execution_count": null,
   "id": "07fec80c",
   "metadata": {},
   "outputs": [],
   "source": []
  },
  {
   "cell_type": "code",
   "execution_count": null,
   "id": "6ee4f0c8",
   "metadata": {},
   "outputs": [],
   "source": []
  },
  {
   "cell_type": "code",
   "execution_count": null,
   "id": "930fda39",
   "metadata": {},
   "outputs": [],
   "source": []
  },
  {
   "cell_type": "code",
   "execution_count": null,
   "id": "fb501014",
   "metadata": {},
   "outputs": [],
   "source": []
  },
  {
   "cell_type": "code",
   "execution_count": null,
   "id": "f0b83c9e",
   "metadata": {},
   "outputs": [],
   "source": [
    "\n",
    "\n",
    "\n",
    "\n",
    "\n",
    "\n",
    "\n",
    "\n",
    "\n",
    "\n",
    "\n",
    "\n",
    "\n",
    "\n",
    "\n",
    "\n",
    "\n"
   ]
  },
  {
   "cell_type": "code",
   "execution_count": null,
   "id": "9013e445",
   "metadata": {},
   "outputs": [],
   "source": [
    "\n"
   ]
  }
 ],
 "metadata": {
  "kernelspec": {
   "display_name": "Python 3 (ipykernel)",
   "language": "python",
   "name": "python3"
  },
  "language_info": {
   "codemirror_mode": {
    "name": "ipython",
    "version": 3
   },
   "file_extension": ".py",
   "mimetype": "text/x-python",
   "name": "python",
   "nbconvert_exporter": "python",
   "pygments_lexer": "ipython3",
   "version": "3.10.6"
  }
 },
 "nbformat": 4,
 "nbformat_minor": 5
}
