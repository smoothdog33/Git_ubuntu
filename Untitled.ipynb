{
 "cells": [
  {
   "cell_type": "code",
   "execution_count": 1,
   "id": "3c8afbd7",
   "metadata": {},
   "outputs": [
    {
     "name": "stdout",
     "output_type": "stream",
     "text": [
      "<connection object at 0x7fd0d81f1f80; dsn: 'user=dev_test1 password=xxx dbname=testing host=localhost', closed: 0>\n",
      "None\n"
     ]
    }
   ],
   "source": [
    "import psycopg2\n",
    "import pandas\n",
    "pd = pandas\n",
    "\n",
    "pgconn2 = psycopg2.connect(\n",
    "    host= 'localhost',\n",
    "    user = 'dev_test1',\n",
    "    password = 'ayan',\n",
    "    database = 'testing')\n",
    "pgcursor2 = pgconn2.cursor()\n",
    "print(pgconn2)\n",
    "print(pgcursor2.execute('INSERT INTO max_dates (create_a_time,create_m_time,create_c_time,run_id)'+ \n",
    "'SELECT MAX(get_a_time) AS \"max_a_time\",'+\n",
    "'MAX(get_m_time) AS \"max_m_time\",' +\n",
    "'MAX(get_c_time) AS \"max_c_time\",'+\n",
    "'3' +\n",
    "'FROM file_inventory commit'))\n",
    "pgconn2.commit()"
   ]
  },
  {
   "cell_type": "code",
   "execution_count": 2,
   "id": "722166a8",
   "metadata": {},
   "outputs": [
    {
     "ename": "NameError",
     "evalue": "name 'max_dates_func' is not defined",
     "output_type": "error",
     "traceback": [
      "\u001b[0;31m---------------------------------------------------------------------------\u001b[0m",
      "\u001b[0;31mNameError\u001b[0m                                 Traceback (most recent call last)",
      "Cell \u001b[0;32mIn[2], line 1\u001b[0m\n\u001b[0;32m----> 1\u001b[0m \u001b[43mmax_dates_func\u001b[49m(\u001b[38;5;28mstr\u001b[39m(\u001b[38;5;241m2\u001b[39m))\n",
      "\u001b[0;31mNameError\u001b[0m: name 'max_dates_func' is not defined"
     ]
    }
   ],
   "source": [
    "max_dates_func(str(2))"
   ]
  },
  {
   "cell_type": "code",
   "execution_count": null,
   "id": "9b490a65",
   "metadata": {},
   "outputs": [],
   "source": []
  }
 ],
 "metadata": {
  "kernelspec": {
   "display_name": "Python 3 (ipykernel)",
   "language": "python",
   "name": "python3"
  },
  "language_info": {
   "codemirror_mode": {
    "name": "ipython",
    "version": 3
   },
   "file_extension": ".py",
   "mimetype": "text/x-python",
   "name": "python",
   "nbconvert_exporter": "python",
   "pygments_lexer": "ipython3",
   "version": "3.10.6"
  }
 },
 "nbformat": 4,
 "nbformat_minor": 5
}
