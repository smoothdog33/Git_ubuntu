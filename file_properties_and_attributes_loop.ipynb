{
 "cells": [
  {
   "cell_type": "code",
   "execution_count": 106,
   "id": "e13bb36c",
   "metadata": {},
   "outputs": [],
   "source": [
    "import json\n",
    "import pandas\n",
    "def check_abs_path_func(input_file_name,input_abs_path):\n",
    "    df=pd.read_json(input_file_name ,lines=True)\n",
    "    #abs_path=df.loc[df['abs_path'] == input_abs_path].iloc[0]['abs_path']\n",
    "    #abs_path2=abs_path\n",
    "    abs_path=df.abs_path\n",
    "    abs_path2 = abs_path.loc[df['abs_path'] == input_abs_path]\n",
    "    print(abs_path2)\n",
    "    if abs_path2.empty:\n",
    "        return False\n",
    "    else:\n",
    "        return True"
   ]
  },
  {
   "cell_type": "code",
   "execution_count": 107,
   "id": "5a925275",
   "metadata": {},
   "outputs": [
    {
     "ename": "FileNotFoundError",
     "evalue": "File data_withouttry.json does not exist",
     "output_type": "error",
     "traceback": [
      "\u001b[0;31m---------------------------------------------------------------------------\u001b[0m",
      "\u001b[0;31mFileNotFoundError\u001b[0m                         Traceback (most recent call last)",
      "Cell \u001b[0;32mIn[107], line 1\u001b[0m\n\u001b[0;32m----> 1\u001b[0m \u001b[43mcheck_abs_path_func\u001b[49m\u001b[43m(\u001b[49m\u001b[38;5;124;43m'\u001b[39;49m\u001b[38;5;124;43mdata_withouttry.json\u001b[39;49m\u001b[38;5;124;43m'\u001b[39;49m\u001b[43m,\u001b[49m\u001b[38;5;124;43m'\u001b[39;49m\u001b[38;5;124;43mC:\u001b[39;49m\u001b[38;5;130;43;01m\\\\\u001b[39;49;00m\u001b[38;5;124;43mUsers\u001b[39;49m\u001b[38;5;130;43;01m\\\\\u001b[39;49;00m\u001b[38;5;124;43mayan\u001b[39;49m\u001b[38;5;130;43;01m\\\\\u001b[39;49;00m\u001b[38;5;124;43mmy_project\u001b[39;49m\u001b[38;5;130;43;01m\\\\\u001b[39;49;00m\u001b[38;5;124;43mvenv\u001b[39;49m\u001b[38;5;130;43;01m\\\\\u001b[39;49;00m\u001b[38;5;124;43mScripts\u001b[39;49m\u001b[38;5;130;43;01m\\\\\u001b[39;49;00m\u001b[38;5;124;43m'\u001b[39;49m\u001b[43m)\u001b[49m\n",
      "Cell \u001b[0;32mIn[106], line 4\u001b[0m, in \u001b[0;36mcheck_abs_path_func\u001b[0;34m(input_file_name, input_abs_path)\u001b[0m\n\u001b[1;32m      3\u001b[0m \u001b[38;5;28;01mdef\u001b[39;00m \u001b[38;5;21mcheck_abs_path_func\u001b[39m(input_file_name,input_abs_path):\n\u001b[0;32m----> 4\u001b[0m     df\u001b[38;5;241m=\u001b[39m\u001b[43mpd\u001b[49m\u001b[38;5;241;43m.\u001b[39;49m\u001b[43mread_json\u001b[49m\u001b[43m(\u001b[49m\u001b[43minput_file_name\u001b[49m\u001b[43m \u001b[49m\u001b[43m,\u001b[49m\u001b[43mlines\u001b[49m\u001b[38;5;241;43m=\u001b[39;49m\u001b[38;5;28;43;01mTrue\u001b[39;49;00m\u001b[43m)\u001b[49m\n\u001b[1;32m      5\u001b[0m     \u001b[38;5;66;03m#abs_path=df.loc[df['abs_path'] == input_abs_path].iloc[0]['abs_path']\u001b[39;00m\n\u001b[1;32m      6\u001b[0m     \u001b[38;5;66;03m#abs_path2=abs_path\u001b[39;00m\n\u001b[1;32m      7\u001b[0m     abs_path\u001b[38;5;241m=\u001b[39mdf\u001b[38;5;241m.\u001b[39mabs_path\n",
      "File \u001b[0;32m~/my-project-env/lib/python3.10/site-packages/pandas/util/_decorators.py:211\u001b[0m, in \u001b[0;36mdeprecate_kwarg.<locals>._deprecate_kwarg.<locals>.wrapper\u001b[0;34m(*args, **kwargs)\u001b[0m\n\u001b[1;32m    209\u001b[0m     \u001b[38;5;28;01melse\u001b[39;00m:\n\u001b[1;32m    210\u001b[0m         kwargs[new_arg_name] \u001b[38;5;241m=\u001b[39m new_arg_value\n\u001b[0;32m--> 211\u001b[0m \u001b[38;5;28;01mreturn\u001b[39;00m \u001b[43mfunc\u001b[49m\u001b[43m(\u001b[49m\u001b[38;5;241;43m*\u001b[39;49m\u001b[43margs\u001b[49m\u001b[43m,\u001b[49m\u001b[43m \u001b[49m\u001b[38;5;241;43m*\u001b[39;49m\u001b[38;5;241;43m*\u001b[39;49m\u001b[43mkwargs\u001b[49m\u001b[43m)\u001b[49m\n",
      "File \u001b[0;32m~/my-project-env/lib/python3.10/site-packages/pandas/util/_decorators.py:331\u001b[0m, in \u001b[0;36mdeprecate_nonkeyword_arguments.<locals>.decorate.<locals>.wrapper\u001b[0;34m(*args, **kwargs)\u001b[0m\n\u001b[1;32m    325\u001b[0m \u001b[38;5;28;01mif\u001b[39;00m \u001b[38;5;28mlen\u001b[39m(args) \u001b[38;5;241m>\u001b[39m num_allow_args:\n\u001b[1;32m    326\u001b[0m     warnings\u001b[38;5;241m.\u001b[39mwarn(\n\u001b[1;32m    327\u001b[0m         msg\u001b[38;5;241m.\u001b[39mformat(arguments\u001b[38;5;241m=\u001b[39m_format_argument_list(allow_args)),\n\u001b[1;32m    328\u001b[0m         \u001b[38;5;167;01mFutureWarning\u001b[39;00m,\n\u001b[1;32m    329\u001b[0m         stacklevel\u001b[38;5;241m=\u001b[39mfind_stack_level(),\n\u001b[1;32m    330\u001b[0m     )\n\u001b[0;32m--> 331\u001b[0m \u001b[38;5;28;01mreturn\u001b[39;00m \u001b[43mfunc\u001b[49m\u001b[43m(\u001b[49m\u001b[38;5;241;43m*\u001b[39;49m\u001b[43margs\u001b[49m\u001b[43m,\u001b[49m\u001b[43m \u001b[49m\u001b[38;5;241;43m*\u001b[39;49m\u001b[38;5;241;43m*\u001b[39;49m\u001b[43mkwargs\u001b[49m\u001b[43m)\u001b[49m\n",
      "File \u001b[0;32m~/my-project-env/lib/python3.10/site-packages/pandas/io/json/_json.py:733\u001b[0m, in \u001b[0;36mread_json\u001b[0;34m(path_or_buf, orient, typ, dtype, convert_axes, convert_dates, keep_default_dates, numpy, precise_float, date_unit, encoding, encoding_errors, lines, chunksize, compression, nrows, storage_options)\u001b[0m\n\u001b[1;32m    730\u001b[0m \u001b[38;5;28;01mif\u001b[39;00m convert_axes \u001b[38;5;129;01mis\u001b[39;00m \u001b[38;5;28;01mNone\u001b[39;00m \u001b[38;5;129;01mand\u001b[39;00m orient \u001b[38;5;241m!=\u001b[39m \u001b[38;5;124m\"\u001b[39m\u001b[38;5;124mtable\u001b[39m\u001b[38;5;124m\"\u001b[39m:\n\u001b[1;32m    731\u001b[0m     convert_axes \u001b[38;5;241m=\u001b[39m \u001b[38;5;28;01mTrue\u001b[39;00m\n\u001b[0;32m--> 733\u001b[0m json_reader \u001b[38;5;241m=\u001b[39m \u001b[43mJsonReader\u001b[49m\u001b[43m(\u001b[49m\n\u001b[1;32m    734\u001b[0m \u001b[43m    \u001b[49m\u001b[43mpath_or_buf\u001b[49m\u001b[43m,\u001b[49m\n\u001b[1;32m    735\u001b[0m \u001b[43m    \u001b[49m\u001b[43morient\u001b[49m\u001b[38;5;241;43m=\u001b[39;49m\u001b[43morient\u001b[49m\u001b[43m,\u001b[49m\n\u001b[1;32m    736\u001b[0m \u001b[43m    \u001b[49m\u001b[43mtyp\u001b[49m\u001b[38;5;241;43m=\u001b[39;49m\u001b[43mtyp\u001b[49m\u001b[43m,\u001b[49m\n\u001b[1;32m    737\u001b[0m \u001b[43m    \u001b[49m\u001b[43mdtype\u001b[49m\u001b[38;5;241;43m=\u001b[39;49m\u001b[43mdtype\u001b[49m\u001b[43m,\u001b[49m\n\u001b[1;32m    738\u001b[0m \u001b[43m    \u001b[49m\u001b[43mconvert_axes\u001b[49m\u001b[38;5;241;43m=\u001b[39;49m\u001b[43mconvert_axes\u001b[49m\u001b[43m,\u001b[49m\n\u001b[1;32m    739\u001b[0m \u001b[43m    \u001b[49m\u001b[43mconvert_dates\u001b[49m\u001b[38;5;241;43m=\u001b[39;49m\u001b[43mconvert_dates\u001b[49m\u001b[43m,\u001b[49m\n\u001b[1;32m    740\u001b[0m \u001b[43m    \u001b[49m\u001b[43mkeep_default_dates\u001b[49m\u001b[38;5;241;43m=\u001b[39;49m\u001b[43mkeep_default_dates\u001b[49m\u001b[43m,\u001b[49m\n\u001b[1;32m    741\u001b[0m \u001b[43m    \u001b[49m\u001b[43mnumpy\u001b[49m\u001b[38;5;241;43m=\u001b[39;49m\u001b[43mnumpy\u001b[49m\u001b[43m,\u001b[49m\n\u001b[1;32m    742\u001b[0m \u001b[43m    \u001b[49m\u001b[43mprecise_float\u001b[49m\u001b[38;5;241;43m=\u001b[39;49m\u001b[43mprecise_float\u001b[49m\u001b[43m,\u001b[49m\n\u001b[1;32m    743\u001b[0m \u001b[43m    \u001b[49m\u001b[43mdate_unit\u001b[49m\u001b[38;5;241;43m=\u001b[39;49m\u001b[43mdate_unit\u001b[49m\u001b[43m,\u001b[49m\n\u001b[1;32m    744\u001b[0m \u001b[43m    \u001b[49m\u001b[43mencoding\u001b[49m\u001b[38;5;241;43m=\u001b[39;49m\u001b[43mencoding\u001b[49m\u001b[43m,\u001b[49m\n\u001b[1;32m    745\u001b[0m \u001b[43m    \u001b[49m\u001b[43mlines\u001b[49m\u001b[38;5;241;43m=\u001b[39;49m\u001b[43mlines\u001b[49m\u001b[43m,\u001b[49m\n\u001b[1;32m    746\u001b[0m \u001b[43m    \u001b[49m\u001b[43mchunksize\u001b[49m\u001b[38;5;241;43m=\u001b[39;49m\u001b[43mchunksize\u001b[49m\u001b[43m,\u001b[49m\n\u001b[1;32m    747\u001b[0m \u001b[43m    \u001b[49m\u001b[43mcompression\u001b[49m\u001b[38;5;241;43m=\u001b[39;49m\u001b[43mcompression\u001b[49m\u001b[43m,\u001b[49m\n\u001b[1;32m    748\u001b[0m \u001b[43m    \u001b[49m\u001b[43mnrows\u001b[49m\u001b[38;5;241;43m=\u001b[39;49m\u001b[43mnrows\u001b[49m\u001b[43m,\u001b[49m\n\u001b[1;32m    749\u001b[0m \u001b[43m    \u001b[49m\u001b[43mstorage_options\u001b[49m\u001b[38;5;241;43m=\u001b[39;49m\u001b[43mstorage_options\u001b[49m\u001b[43m,\u001b[49m\n\u001b[1;32m    750\u001b[0m \u001b[43m    \u001b[49m\u001b[43mencoding_errors\u001b[49m\u001b[38;5;241;43m=\u001b[39;49m\u001b[43mencoding_errors\u001b[49m\u001b[43m,\u001b[49m\n\u001b[1;32m    751\u001b[0m \u001b[43m\u001b[49m\u001b[43m)\u001b[49m\n\u001b[1;32m    753\u001b[0m \u001b[38;5;28;01mif\u001b[39;00m chunksize:\n\u001b[1;32m    754\u001b[0m     \u001b[38;5;28;01mreturn\u001b[39;00m json_reader\n",
      "File \u001b[0;32m~/my-project-env/lib/python3.10/site-packages/pandas/io/json/_json.py:818\u001b[0m, in \u001b[0;36mJsonReader.__init__\u001b[0;34m(self, filepath_or_buffer, orient, typ, dtype, convert_axes, convert_dates, keep_default_dates, numpy, precise_float, date_unit, encoding, lines, chunksize, compression, nrows, storage_options, encoding_errors)\u001b[0m\n\u001b[1;32m    815\u001b[0m     \u001b[38;5;28;01mif\u001b[39;00m \u001b[38;5;129;01mnot\u001b[39;00m \u001b[38;5;28mself\u001b[39m\u001b[38;5;241m.\u001b[39mlines:\n\u001b[1;32m    816\u001b[0m         \u001b[38;5;28;01mraise\u001b[39;00m \u001b[38;5;167;01mValueError\u001b[39;00m(\u001b[38;5;124m\"\u001b[39m\u001b[38;5;124mnrows can only be passed if lines=True\u001b[39m\u001b[38;5;124m\"\u001b[39m)\n\u001b[0;32m--> 818\u001b[0m data \u001b[38;5;241m=\u001b[39m \u001b[38;5;28;43mself\u001b[39;49m\u001b[38;5;241;43m.\u001b[39;49m\u001b[43m_get_data_from_filepath\u001b[49m\u001b[43m(\u001b[49m\u001b[43mfilepath_or_buffer\u001b[49m\u001b[43m)\u001b[49m\n\u001b[1;32m    819\u001b[0m \u001b[38;5;28mself\u001b[39m\u001b[38;5;241m.\u001b[39mdata \u001b[38;5;241m=\u001b[39m \u001b[38;5;28mself\u001b[39m\u001b[38;5;241m.\u001b[39m_preprocess_data(data)\n",
      "File \u001b[0;32m~/my-project-env/lib/python3.10/site-packages/pandas/io/json/_json.py:874\u001b[0m, in \u001b[0;36mJsonReader._get_data_from_filepath\u001b[0;34m(self, filepath_or_buffer)\u001b[0m\n\u001b[1;32m    866\u001b[0m     filepath_or_buffer \u001b[38;5;241m=\u001b[39m \u001b[38;5;28mself\u001b[39m\u001b[38;5;241m.\u001b[39mhandles\u001b[38;5;241m.\u001b[39mhandle\n\u001b[1;32m    867\u001b[0m \u001b[38;5;28;01melif\u001b[39;00m (\n\u001b[1;32m    868\u001b[0m     \u001b[38;5;28misinstance\u001b[39m(filepath_or_buffer, \u001b[38;5;28mstr\u001b[39m)\n\u001b[1;32m    869\u001b[0m     \u001b[38;5;129;01mand\u001b[39;00m filepath_or_buffer\u001b[38;5;241m.\u001b[39mlower()\u001b[38;5;241m.\u001b[39mendswith(\n\u001b[0;32m   (...)\u001b[0m\n\u001b[1;32m    872\u001b[0m     \u001b[38;5;129;01mand\u001b[39;00m \u001b[38;5;129;01mnot\u001b[39;00m file_exists(filepath_or_buffer)\n\u001b[1;32m    873\u001b[0m ):\n\u001b[0;32m--> 874\u001b[0m     \u001b[38;5;28;01mraise\u001b[39;00m \u001b[38;5;167;01mFileNotFoundError\u001b[39;00m(\u001b[38;5;124mf\u001b[39m\u001b[38;5;124m\"\u001b[39m\u001b[38;5;124mFile \u001b[39m\u001b[38;5;132;01m{\u001b[39;00mfilepath_or_buffer\u001b[38;5;132;01m}\u001b[39;00m\u001b[38;5;124m does not exist\u001b[39m\u001b[38;5;124m\"\u001b[39m)\n\u001b[1;32m    876\u001b[0m \u001b[38;5;28;01mreturn\u001b[39;00m filepath_or_buffer\n",
      "\u001b[0;31mFileNotFoundError\u001b[0m: File data_withouttry.json does not exist"
     ]
    }
   ],
   "source": [
    "check_abs_path_func('data_withouttry.json','C:\\\\Users\\\\ayan\\\\my_project\\\\venv\\\\Scripts\\\\')"
   ]
  },
  {
   "cell_type": "code",
   "execution_count": 108,
   "id": "7007f3bf",
   "metadata": {},
   "outputs": [
    {
     "ename": "TypeError",
     "evalue": "file_inventory_creator() missing 3 required positional arguments: 'max_a_time', 'max_m_time', and 'max_c_time'",
     "output_type": "error",
     "traceback": [
      "\u001b[0;31m---------------------------------------------------------------------------\u001b[0m",
      "\u001b[0;31mTypeError\u001b[0m                                 Traceback (most recent call last)",
      "Cell \u001b[0;32mIn[108], line 1\u001b[0m\n\u001b[0;32m----> 1\u001b[0m \u001b[43mfile_inventory_creator\u001b[49m\u001b[43m(\u001b[49m\u001b[38;5;124;43m'\u001b[39;49m\u001b[38;5;124;43mdata_withouttry.json\u001b[39;49m\u001b[38;5;124;43m'\u001b[39;49m\u001b[43m,\u001b[49m\u001b[38;5;124;43m'\u001b[39;49m\u001b[38;5;124;43mC:\u001b[39;49m\u001b[38;5;130;43;01m\\\\\u001b[39;49;00m\u001b[38;5;124;43mUsers\u001b[39;49m\u001b[38;5;130;43;01m\\\\\u001b[39;49;00m\u001b[38;5;124;43mayan\u001b[39;49m\u001b[38;5;130;43;01m\\\\\u001b[39;49;00m\u001b[38;5;124;43mmy_project\u001b[39;49m\u001b[38;5;130;43;01m\\\\\u001b[39;49;00m\u001b[38;5;124;43mvenv\u001b[39;49m\u001b[38;5;130;43;01m\\\\\u001b[39;49;00m\u001b[38;5;124;43mScripts\u001b[39;49m\u001b[38;5;124;43m'\u001b[39;49m\u001b[43m)\u001b[49m\n",
      "\u001b[0;31mTypeError\u001b[0m: file_inventory_creator() missing 3 required positional arguments: 'max_a_time', 'max_m_time', and 'max_c_time'"
     ]
    }
   ],
   "source": [
    "file_inventory_creator('data_withouttry.json','C:\\\\Users\\\\ayan\\\\my_project\\\\venv\\\\Scripts')"
   ]
  },
  {
   "cell_type": "code",
   "execution_count": 165,
   "id": "ee281907",
   "metadata": {},
   "outputs": [],
   "source": [
    "import json\n",
    "import os\n",
    "import pandas as pd\n",
    "import datetime\n",
    "from datetime import datetime\n",
    "#create a function that accepts 2 input arguments \n",
    "# 1: the \"input_directory\": the path for which we want to collect the properties and attributes for all the files in it\n",
    "# 2:the \"output_file_name\": the json file where the entries of the files and attributes will be saved\n",
    "#1: insert input directory here\n",
    "\n",
    "def file_inventory_creator(input_directory,output_file_name,max_a_time,max_m_time,max_c_time):\n",
    "        for root, dirs, files in os.walk(input_directory):\n",
    "            for file in files:\n",
    "                try:\n",
    "                    path_creator = os.path.join(root,file)\n",
    "                    file_abs_path = os.path.abspath(path_creator)\n",
    "                    #old_abs_path = check_abs_path_func(output_file_name,file_abs_path)\n",
    "                    #print(old_abs_path)\n",
    "                    #print(file_abs_path)\n",
    "\n",
    "                    #print(g)\n",
    "                    # 4: collect properties and attributes\n",
    "                    size = os.stat(file_abs_path)\n",
    "                    #print( \"the size of the file is \" + str( size )+ \" bytes\" )\n",
    "                    create_time_stamp = os.path.getctime(file_abs_path)\n",
    "                    #print(\"the created time of this file is \"+ str(create_time_stamp)  )\n",
    "                    base_name = os.path.basename(file_abs_path)\n",
    "                    common_prefix = os.path.commonprefix(file_abs_path)\n",
    "                    dir_name = os.path.dirname(file_abs_path)\n",
    "                    exists = os.path.exists(file_abs_path)\n",
    "                    lexists = os.path.lexists(file_abs_path)\n",
    "                    expanduser = os.path.expanduser(file_abs_path)\n",
    "                    expandvars = os.path.expandvars(file_abs_path)\n",
    "                    get_a_time = os.path.getatime(file_abs_path)\n",
    "                    get_m_time = os.path.getmtime(file_abs_path)\n",
    "                    get_c_time = os.path.getctime(file_abs_path)\n",
    "                    isabs = os.path.isabs(file_abs_path)\n",
    "                    is_file = os.path.isfile(file_abs_path)\n",
    "                    is_dir = os.path.isdir(file_abs_path)\n",
    "                    is_link = os.path.islink(file_abs_path)\n",
    "                    is_mount = os.path.ismount(file_abs_path)\n",
    "                    norm_case = os.path.normcase(file_abs_path)\n",
    "                    norm_path = os.path.normpath(file_abs_path)\n",
    "                    real_path = os.path.realpath(file_abs_path)\n",
    "                   # same_file = os.path.samefile(file_abs_path)\n",
    "                    #same_open_file = os.path.sameopenfile(file_abs_path)\n",
    "                    #6:converts all properties and attributes to a dictionary\n",
    "                    properties_and_attributes = {\"size_of_file\": size ,\"create_time_stamp\": create_time_stamp,\"abs_path\":file_abs_path,\"base_name\":base_name,\"common_prefix\": common_prefix,\"dir_name\":dir_name,\"exists\":exists,\"lexists\":lexists,\"expanduser\": expanduser,\"expandvars\":expandvars,\"get_a_time\":get_a_time,\"get_m_time\":get_m_time,\"get_c_time\":get_c_time,\"isabs\":isabs,\"is_file\":is_file,\"is_dir\":is_dir, \"is_link\":is_link,\"is_mount\": is_mount,\"norm_case\":norm_case,\"norm_path\":norm_path,\"real_path\":real_path,}\n",
    "                    l =properties_and_attributes\n",
    "                    j_dumps = json.dumps(l)#7 python writes to json\n",
    "\n",
    "                    #8 python writes to new file\n",
    "                    with open(output_file_name, 'a') as f:\n",
    "                        \n",
    "                            #if old_abs_path == False:\n",
    "                        #epoch_time = datetime.datetime(max_c_time).timestamp()\n",
    "                        if  datetime.strptime(max_c_time, '%Y-%m-%d %H:%M:%S.%f').timestamp() < get_c_time or datetime.strptime(max_m_time, '%Y-%m-%d %H:%M:%S.%f').timestamp() < get_m_time:\n",
    "                            \n",
    "                            json.dump(l, f)\n",
    "                            f.write(\"\\n\")\n",
    "                            print(file_abs_path+'new' + max_c_time + '-'+ str(datetime.fromtimestamp(get_c_time)))\n",
    "                        #else:\n",
    "                            #print(file_abs_path+'old')\n",
    "                                \n",
    "                except Exception as e:\n",
    "                    properties_and_attributes = {\"size_of_file\": size ,\"create_time_stamp\": create_time_stamp,\"abs_path\":file_abs_path,\"base_name\":base_name,\"common_prefix\": common_prefix,\"dir_name\":dir_name,\"exists\":exists,\"lexists\":lexists,\"expanduser\": expanduser,\"expandvars\":expandvars,\"get_a_time\":get_a_time,\"get_m_time\":get_m_time,\"get_c_time\":get_c_time,\"isabs\":isabs,\"is_file\":is_file,\"is_dir\":is_dir, \"is_link\":is_link,\"is_mount\": is_mount,\"norm_case\":norm_case,\"norm_path\":norm_path,\"real_path\":real_path,}\n",
    "                    l =properties_and_attributes\n",
    "                    j_dumps = json.dumps(l)#7 python writes to json\n",
    "                    print(e)\n",
    "                        #8 python writes to new file\n",
    "                    with open(output_file_name+\"_error\", 'a') as g:\n",
    "                                json.dump(l, g)\n",
    "                                #if old_abs_path == False:\n",
    "                                g.write(\"\\n\")\n",
    "                                \n",
    "\n",
    "                    \n",
    "           "
   ]
  },
  {
   "cell_type": "code",
   "execution_count": null,
   "id": "4e07ece2",
   "metadata": {},
   "outputs": [],
   "source": []
  },
  {
   "cell_type": "code",
   "execution_count": 13,
   "id": "b272ecac",
   "metadata": {},
   "outputs": [],
   "source": [
    "import psycopg2\n",
    "import pandas\n",
    "pd = pandas"
   ]
  },
  {
   "cell_type": "code",
   "execution_count": 52,
   "id": "a1e8e585",
   "metadata": {},
   "outputs": [],
   "source": [
    "pgconn = psycopg2.connect(\n",
    "    host= 'localhost',\n",
    "    user = 'dev_test1',\n",
    "    password = 'ayan',\n",
    "    database = 'testing')"
   ]
  },
  {
   "cell_type": "code",
   "execution_count": 53,
   "id": "b90db52e",
   "metadata": {},
   "outputs": [],
   "source": [
    "pgcursor = pgconn.cursor()"
   ]
  },
  {
   "cell_type": "code",
   "execution_count": 56,
   "id": "07fec80c",
   "metadata": {},
   "outputs": [
    {
     "name": "stdout",
     "output_type": "stream",
     "text": [
      "None\n"
     ]
    }
   ],
   "source": [
    "print(pgcursor.execute('select * from public.\"max_dates\"'))"
   ]
  },
  {
   "cell_type": "code",
   "execution_count": 57,
   "id": "6ee4f0c8",
   "metadata": {},
   "outputs": [],
   "source": [
    "result = pgcursor.fetchall()"
   ]
  },
  {
   "cell_type": "code",
   "execution_count": 58,
   "id": "dc713b5c",
   "metadata": {},
   "outputs": [
    {
     "name": "stdout",
     "output_type": "stream",
     "text": [
      "[(None, '2022-12-28 18:05:03.96823', '2022-12-28 18:05:03.96823', '2022-12-28 18:05:55.752563', 1), (None, '2022-12-30 23:26:46.917188', '2022-12-30 23:26:39.321129', '2022-12-30 23:26:39.321129', 2), (None, '2022-12-30 23:26:46.917188', '2022-12-30 23:26:39.321129', '2022-12-30 23:26:39.321129', 2)]\n"
     ]
    }
   ],
   "source": [
    "print(result)\n"
   ]
  },
  {
   "cell_type": "code",
   "execution_count": 150,
   "id": "5ac69d20",
   "metadata": {},
   "outputs": [],
   "source": [
    "max_a_time= result [0][1]\n"
   ]
  },
  {
   "cell_type": "code",
   "execution_count": 151,
   "id": "94cd1eac",
   "metadata": {},
   "outputs": [],
   "source": [
    "max_m_time= result [0][2]"
   ]
  },
  {
   "cell_type": "code",
   "execution_count": 152,
   "id": "26528ecc",
   "metadata": {},
   "outputs": [],
   "source": [
    "max_c_time= result [0][3]"
   ]
  },
  {
   "cell_type": "code",
   "execution_count": null,
   "id": "c6b7d009",
   "metadata": {},
   "outputs": [],
   "source": []
  },
  {
   "cell_type": "code",
   "execution_count": 153,
   "id": "8614df9a",
   "metadata": {},
   "outputs": [
    {
     "name": "stdout",
     "output_type": "stream",
     "text": [
      "2022-12-28 18:05:03.96823\n"
     ]
    }
   ],
   "source": [
    "print(max_a_time)"
   ]
  },
  {
   "cell_type": "code",
   "execution_count": null,
   "id": "1fefcb40",
   "metadata": {},
   "outputs": [],
   "source": []
  },
  {
   "cell_type": "code",
   "execution_count": 154,
   "id": "8a2d89a0",
   "metadata": {
    "scrolled": true
   },
   "outputs": [
    {
     "name": "stdout",
     "output_type": "stream",
     "text": [
      "2022-12-28 18:05:03.96823\n"
     ]
    }
   ],
   "source": [
    "print(max_a_time)"
   ]
  },
  {
   "cell_type": "code",
   "execution_count": 155,
   "id": "b8ba1992",
   "metadata": {
    "scrolled": true
   },
   "outputs": [
    {
     "name": "stdout",
     "output_type": "stream",
     "text": [
      "2022-12-28 18:05:03.96823\n"
     ]
    }
   ],
   "source": [
    "print(max_m_time)"
   ]
  },
  {
   "cell_type": "code",
   "execution_count": 167,
   "id": "33cd4e22",
   "metadata": {},
   "outputs": [
    {
     "name": "stdout",
     "output_type": "stream",
     "text": [
      "1672531503.96823\n"
     ]
    }
   ],
   "source": [
    "from datetime import datetime\n",
    "sample = '2022-12-31 18:05:03.96823'\n",
    "datetime1 = datetime.strptime(sample, '%Y-%m-%d %H:%M:%S.%f').timestamp()\n",
    "print(datetime1)"
   ]
  },
  {
   "cell_type": "code",
   "execution_count": null,
   "id": "14240b8f",
   "metadata": {},
   "outputs": [],
   "source": []
  },
  {
   "cell_type": "code",
   "execution_count": null,
   "id": "031d7a51",
   "metadata": {},
   "outputs": [],
   "source": [
    "\n"
   ]
  },
  {
   "cell_type": "code",
   "execution_count": null,
   "id": "c6145dcd",
   "metadata": {},
   "outputs": [],
   "source": []
  },
  {
   "cell_type": "code",
   "execution_count": 169,
   "id": "fb501014",
   "metadata": {},
   "outputs": [
    {
     "name": "stdout",
     "output_type": "stream",
     "text": [
      "/home/ayan/stuff/.git/HEADnew2022-12-28 18:05:55.752563-2022-12-30 17:26:18.376967\n",
      "/home/ayan/stuff/.git/confignew2022-12-28 18:05:55.752563-2022-12-30 17:26:18.376967\n",
      "/home/ayan/stuff/.git/indexnew2022-12-28 18:05:55.752563-2022-12-30 17:26:39.321129\n",
      "/home/ayan/stuff/.git/descriptionnew2022-12-28 18:05:55.752563-2022-12-30 17:26:18.372967\n",
      "/home/ayan/stuff/.git/objects/aa/11360c0023308fcccd52c92d8744fe5fc65b12new2022-12-28 18:05:55.752563-2022-12-30 17:26:39.301129\n",
      "/home/ayan/stuff/.git/objects/74/e355f0f1d1ba21d5b19024b161a27cca635354new2022-12-28 18:05:55.752563-2022-12-30 17:26:39.257129\n",
      "/home/ayan/stuff/.git/objects/1e/4fd26b2279f87d33f9dca40a880d5c712c6d79new2022-12-28 18:05:55.752563-2022-12-30 17:26:39.321129\n",
      "/home/ayan/stuff/.git/objects/cf/b93eeddeaa501350ec8ea7cb33002c76a59a0cnew2022-12-28 18:05:55.752563-2022-12-30 17:26:39.321129\n",
      "/home/ayan/stuff/.git/objects/77/e2779aa528bda8bd0147009740619548a369bdnew2022-12-28 18:05:55.752563-2022-12-30 17:26:39.305129\n",
      "/home/ayan/stuff/.git/objects/2d/2112236a6a62e92fd3857451b2d3752c1f1038new2022-12-28 18:05:55.752563-2022-12-30 17:26:39.281129\n",
      "/home/ayan/stuff/.git/objects/d3/644d22868cfda2872f8a6e0861c77428907431new2022-12-28 18:05:55.752563-2022-12-30 17:26:39.293129\n",
      "/home/ayan/stuff/.git/objects/e4/d468534927fd6e564dc7d29e4b3e63f7a94c11new2022-12-28 18:05:55.752563-2022-12-30 17:26:39.321129\n",
      "/home/ayan/stuff/.git/objects/6b/5014303bd3997e8bc147174a06839a56a39e88new2022-12-28 18:05:55.752563-2022-12-30 17:26:39.305129\n",
      "/home/ayan/stuff/.git/objects/94/07b2ee6e4d60fe34ac153eb5b5ad63806a1a02new2022-12-28 18:05:55.752563-2022-12-30 17:26:39.321129\n",
      "/home/ayan/stuff/.git/objects/70/46e33bd40bdacc9eb3901099a0422eee483f36new2022-12-28 18:05:55.752563-2022-12-30 17:26:39.257129\n",
      "/home/ayan/stuff/.git/objects/b4/176ed5af1d3cd9c3346d40c01997329d02bccfnew2022-12-28 18:05:55.752563-2022-12-30 17:26:39.301129\n",
      "/home/ayan/stuff/.git/objects/9e/f0485eb1ddf84372d7fad3e5e73dd4eeba2f86new2022-12-28 18:05:55.752563-2022-12-30 17:26:39.321129\n",
      "/home/ayan/stuff/.git/objects/c7/b5563c57979d3b96d20ddba66752d0487b4e89new2022-12-28 18:05:55.752563-2022-12-30 17:26:39.321129\n",
      "/home/ayan/stuff/.git/objects/39/90d58dbcc64991b09e058fea0169e23da941f0new2022-12-28 18:05:55.752563-2022-12-30 17:26:39.301129\n",
      "/home/ayan/stuff/.git/objects/c2/7d4b35d3aff9b0fa7fa507a6ba4d5ac9db4967new2022-12-28 18:05:55.752563-2022-12-30 17:26:39.321129\n",
      "/home/ayan/stuff/.git/info/excludenew2022-12-28 18:05:55.752563-2022-12-30 17:26:18.372967\n",
      "/home/ayan/stuff/.git/hooks/commit-msg.samplenew2022-12-28 18:05:55.752563-2022-12-30 17:26:18.372967\n",
      "/home/ayan/stuff/.git/hooks/pre-applypatch.samplenew2022-12-28 18:05:55.752563-2022-12-30 17:26:18.372967\n",
      "/home/ayan/stuff/.git/hooks/update.samplenew2022-12-28 18:05:55.752563-2022-12-30 17:26:18.372967\n",
      "/home/ayan/stuff/.git/hooks/pre-push.samplenew2022-12-28 18:05:55.752563-2022-12-30 17:26:18.372967\n",
      "/home/ayan/stuff/.git/hooks/push-to-checkout.samplenew2022-12-28 18:05:55.752563-2022-12-30 17:26:18.372967\n",
      "/home/ayan/stuff/.git/hooks/prepare-commit-msg.samplenew2022-12-28 18:05:55.752563-2022-12-30 17:26:18.372967\n",
      "/home/ayan/stuff/.git/hooks/pre-rebase.samplenew2022-12-28 18:05:55.752563-2022-12-30 17:26:18.372967\n",
      "/home/ayan/stuff/.git/hooks/pre-merge-commit.samplenew2022-12-28 18:05:55.752563-2022-12-30 17:26:18.372967\n",
      "/home/ayan/stuff/.git/hooks/pre-receive.samplenew2022-12-28 18:05:55.752563-2022-12-30 17:26:18.372967\n",
      "/home/ayan/stuff/.git/hooks/fsmonitor-watchman.samplenew2022-12-28 18:05:55.752563-2022-12-30 17:26:18.372967\n",
      "/home/ayan/stuff/.git/hooks/post-update.samplenew2022-12-28 18:05:55.752563-2022-12-30 17:26:18.376967\n",
      "/home/ayan/stuff/.git/hooks/applypatch-msg.samplenew2022-12-28 18:05:55.752563-2022-12-30 17:26:18.376967\n",
      "/home/ayan/stuff/.git/hooks/pre-commit.samplenew2022-12-28 18:05:55.752563-2022-12-30 17:26:18.376967\n",
      "/home/ayan/stuff/fol7/index.jpegnew2022-12-28 18:05:55.752563-2022-12-29 18:43:16.711498\n",
      "/home/ayan/stuff/fol3/index.jpegnew2022-12-28 18:05:55.752563-2022-12-29 18:40:05.562138\n"
     ]
    }
   ],
   "source": [
    "file_inventory_creator('/home/ayan/stuff/','6th.json',max_a_time,max_m_time,max_c_time)"
   ]
  },
  {
   "cell_type": "code",
   "execution_count": null,
   "id": "f1574523",
   "metadata": {},
   "outputs": [],
   "source": [
    "#1) Run 2nd run/6th* JSON again\n",
    "#2) Load 6thJSON into Database (make sure its append not replace)\n",
    "#3) Run INSERT INTO max dates using PG_cursor\n"
   ]
  },
  {
   "cell_type": "code",
   "execution_count": 55,
   "id": "5a0c9ee2",
   "metadata": {},
   "outputs": [
    {
     "name": "stdout",
     "output_type": "stream",
     "text": [
      "None\n"
     ]
    }
   ],
   "source": [
    "print(pgcursor.execute('INSERT INTO max_dates (create_a_time,create_m_time,create_c_time,run_id)' + \n",
    "'SELECT MAX(get_a_time) AS \"max_a_time\",'+\n",
    "'MAX(get_m_time) AS \"max_m_time\",' +\n",
    "'MAX(get_c_time) AS \"max_c_time\",'+\n",
    "'2'+\n",
    "'FROM file_inventory'))\n"
   ]
  },
  {
   "cell_type": "code",
   "execution_count": 54,
   "id": "ccee4c2d",
   "metadata": {},
   "outputs": [
    {
     "name": "stdout",
     "output_type": "stream",
     "text": [
      "None\n"
     ]
    }
   ],
   "source": [
    "print(pgcursor.execute('INSERT INTO max_dates (create_a_time,create_m_time,create_c_time,run_id)SELECT MAX(get_a_time) AS \"max_a_time\",MAX(get_m_time) AS \"max_m_time\", MAX(get_c_time) AS \"max_c_time\",''2'' FROM file_inventory'))\n"
   ]
  },
  {
   "cell_type": "code",
   "execution_count": 59,
   "id": "f0b83c9e",
   "metadata": {},
   "outputs": [
    {
     "name": "stdout",
     "output_type": "stream",
     "text": [
      "None\n"
     ]
    }
   ],
   "source": [
    "print(pgcursor.execute('commit'))\n",
    "\n",
    "\n",
    "\n",
    "\n",
    "\n",
    "\n",
    "\n",
    "\n",
    "\n",
    "\n",
    "\n",
    "\n",
    "\n",
    "\n"
   ]
  },
  {
   "cell_type": "code",
   "execution_count": null,
   "id": "9013e445",
   "metadata": {},
   "outputs": [],
   "source": [
    "INSERT INTO max_dates (create_a_time,create_m_time,create_c_time,run_id)\n",
    "SELECT MAX(get_a_time) AS \"max_a_time\",\n",
    "MAX(get_m_time) AS \"max_m_time\",\n",
    "MAX(get_c_time) AS \"max_c_time\",\n",
    "'2'\n",
    "FROM file_inventory\n"
   ]
  }
 ],
 "metadata": {
  "kernelspec": {
   "display_name": "Python 3 (ipykernel)",
   "language": "python",
   "name": "python3"
  },
  "language_info": {
   "codemirror_mode": {
    "name": "ipython",
    "version": 3
   },
   "file_extension": ".py",
   "mimetype": "text/x-python",
   "name": "python",
   "nbconvert_exporter": "python",
   "pygments_lexer": "ipython3",
   "version": "3.10.6"
  }
 },
 "nbformat": 4,
 "nbformat_minor": 5
}
